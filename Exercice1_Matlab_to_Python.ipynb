{
 "cells": [
  {
   "cell_type": "code",
   "execution_count": 16,
   "metadata": {},
   "outputs": [],
   "source": [
    "import numpy as np\n",
    "from scipy.stats import norm\n",
    "import math"
   ]
  },
  {
   "cell_type": "code",
   "execution_count": 20,
   "metadata": {},
   "outputs": [],
   "source": [
    "def BSCall(s,k,sigma,tau,r):\n",
    "    stau=math.sqrt(tau)\n",
    "    d1=(log(s/(k*exp(-r*tau))))/(sigma*stau)+0.5*sigma*stau\n",
    "    d2=d1-sigma*stau\n",
    "    bsc=s*norm.cdf(d1)-k*exp(-r*tau)*norm.cdf(d2)"
   ]
  },
  {
   "cell_type": "code",
   "execution_count": 36,
   "metadata": {},
   "outputs": [],
   "source": [
    "## Parameters\n",
    "# Black-Scholes parameters\n",
    "S = 100\n",
    "K = 100\n",
    "sigma = 0.2\n",
    "r = 0.1\n",
    "T = 0.5\n",
    "t = 0\n",
    "\n",
    "# Notation\n",
    "b = r-sigma**2/2\n",
    "\n",
    "# Underlying\n",
    "X = math.log(S)\n",
    "l = abs(b)*T + 3*sigma*math.sqrt(T) #localization\n",
    "XL = X-l #lower bound\n",
    "XU = X+l #upper bound\n",
    "XN = 101\n",
    "\n",
    "# Time\n",
    "tL = 0 # lower bound\n",
    "tU = T # upper bound\n",
    "tN = 50\n",
    "\n",
    "## Grid\n",
    "\n",
    "# Underlying\n",
    "Xg = np.linspace(XL,XU,XN)\n",
    "Sg = np.exp(Xg)\n",
    "\n",
    "# Time\n",
    "tg = np.linspace(tL,tU,tN)\n",
    "\n",
    "# Grid sizes\n",
    "k = Xg[2]-Xg[1]\n",
    "h = tg[2]-tg[1]\n"
   ]
  },
  {
   "cell_type": "code",
   "execution_count": 183,
   "metadata": {},
   "outputs": [
    {
     "name": "stderr",
     "output_type": "stream",
     "text": [
      "C:\\Users\\Rabzor\\Anaconda3\\lib\\site-packages\\ipykernel_launcher.py:33: RuntimeWarning: divide by zero encountered in true_divide\n",
      "C:\\Users\\Rabzor\\Anaconda3\\lib\\site-packages\\ipykernel_launcher.py:33: RuntimeWarning: invalid value encountered in true_divide\n"
     ]
    },
    {
     "ename": "ValueError",
     "evalue": "could not broadcast input array from shape (101,101) into shape (101)",
     "output_type": "error",
     "traceback": [
      "\u001b[1;31m---------------------------------------------------------------------------\u001b[0m",
      "\u001b[1;31mValueError\u001b[0m                                Traceback (most recent call last)",
      "\u001b[1;32m<ipython-input-183-5fa1f6abf184>\u001b[0m in \u001b[0;36m<module>\u001b[1;34m()\u001b[0m\n\u001b[0;32m     31\u001b[0m \u001b[1;33m\u001b[0m\u001b[0m\n\u001b[0;32m     32\u001b[0m     \u001b[1;31m# Systems\u001b[0m\u001b[1;33m\u001b[0m\u001b[1;33m\u001b[0m\u001b[0m\n\u001b[1;32m---> 33\u001b[1;33m     \u001b[0mu\u001b[0m\u001b[1;33m[\u001b[0m\u001b[1;33m:\u001b[0m\u001b[1;33m,\u001b[0m\u001b[0mi\u001b[0m\u001b[1;33m-\u001b[0m\u001b[1;36m1\u001b[0m\u001b[1;33m]\u001b[0m \u001b[1;33m=\u001b[0m \u001b[0mnp\u001b[0m\u001b[1;33m.\u001b[0m\u001b[0mdivide\u001b[0m\u001b[1;33m(\u001b[0m\u001b[1;33m(\u001b[0m\u001b[0mB\u001b[0m\u001b[1;33m*\u001b[0m\u001b[0mu\u001b[0m\u001b[1;33m[\u001b[0m\u001b[1;33m:\u001b[0m\u001b[1;33m,\u001b[0m\u001b[0mi\u001b[0m\u001b[1;33m]\u001b[0m\u001b[1;33m+\u001b[0m\u001b[0mh\u001b[0m\u001b[1;33m*\u001b[0m\u001b[0mv\u001b[0m\u001b[1;33m)\u001b[0m\u001b[1;33m,\u001b[0m\u001b[0mA\u001b[0m\u001b[1;33m)\u001b[0m\u001b[1;33m\u001b[0m\u001b[0m\n\u001b[0m\u001b[0;32m     34\u001b[0m \u001b[1;33m\u001b[0m\u001b[0m\n\u001b[0;32m     35\u001b[0m     \u001b[1;31m#waitbar((tN-i)/(tN-1),ws,sprintf('Running scheme: #d## done...',round((tN-i)/(tN-1)*100)))\u001b[0m\u001b[1;33m\u001b[0m\u001b[1;33m\u001b[0m\u001b[0m\n",
      "\u001b[1;31mValueError\u001b[0m: could not broadcast input array from shape (101,101) into shape (101)"
     ]
    }
   ],
   "source": [
    "## Scheme\n",
    "\n",
    "# theta = 0 # explicit\n",
    "theta = 0.5 # Crank-Nicolson\n",
    "# theta = 1 # fully implicit\n",
    "\n",
    "u = np.zeros((XN,tN))\n",
    "\n",
    "# Terminal condition\n",
    "for j in range(XN):\n",
    "    u[j,tN-1] = max(Sg[j]-K,0)\n",
    "\n",
    "# Coefficients\n",
    "alpha = sigma**2/(2*k**2)-b/(2*k)\n",
    "beta = -sigma**2/k**2-r\n",
    "gamma = sigma**2/(2*k**2)+b/(2*k)\n",
    "Ak = np.zeros((XN, XN))\n",
    "Ak[range(XN), range(XN)] = beta\n",
    "Ak[range(XN-1), range(1, XN)] = gamma\n",
    "Ak[range(1, XN), range(XN-1)] = alpha\n",
    "A = np.eye(XN)-h*theta*Ak\n",
    "B = np.eye(XN)+h*(1-theta)*Ak\n",
    "v = np.zeros((XN,1))\n",
    "\n",
    "#ws = waitbar(0,'Running scheme: 0# done...')\n",
    "for i in range(tN-1,2,-1):\n",
    "    \n",
    "    # Vector v\n",
    "    v[1] = alpha*0\n",
    "    v[len(v)-1] = gamma*(theta*(Sg[XN-1]*math.exp(k)-K*math.exp(-r*(T-tg[i-2]))) + (1-theta)*(Sg[XN-1]*math.exp(k)-K*math.exp(-r*(T-tg[i-1]))))\n",
    "    \n",
    "    # Systems\n",
    "    u[:,i-1] = np.divide((B*u[:,i]+h*v),A)\n",
    "    \n",
    "    #waitbar((tN-i)/(tN-1),ws,sprintf('Running scheme: #d## done...',round((tN-i)/(tN-1)*100)))\n",
    "    \n",
    "\n",
    "#close(ws)\n"
   ]
  },
  {
   "cell_type": "code",
   "execution_count": 191,
   "metadata": {},
   "outputs": [
    {
     "data": {
      "text/plain": [
       "array([[-0.,  0.,  0., ...,  0.,  0.,  0.],\n",
       "       [ 0., -0.,  0., ...,  0.,  0.,  0.],\n",
       "       [ 0.,  0., -0., ...,  0.,  0.,  0.],\n",
       "       ...,\n",
       "       [ 0.,  0.,  0., ..., -0.,  0.,  0.],\n",
       "       [ 0.,  0.,  0., ...,  0., -0.,  0.],\n",
       "       [ 0.,  0.,  0., ...,  0.,  0., -0.]])"
      ]
     },
     "execution_count": 191,
     "metadata": {},
     "output_type": "execute_result"
    }
   ],
   "source": [
    "#gamma*(theta*(Sg[XN-1]*math.exp(k)-K*math.exp(-r*(T-tg[i-1]))) + (1-theta)*(Sg[XN]*exp(k)-K*exp(-r*(T-tg[i]))))\n",
    "B*u[:,i-1]"
   ]
  },
  {
   "cell_type": "code",
   "execution_count": 204,
   "metadata": {},
   "outputs": [
    {
     "data": {
      "text/plain": [
       "array([0., 0., 0., 0., 0., 0., 0., 0., 0., 0., 0., 0., 0., 0., 0., 0., 0.,\n",
       "       0., 0., 0., 0., 0., 0., 0., 0., 0., 0., 0., 0., 0., 0., 0., 0., 0.,\n",
       "       0., 0., 0., 0., 0., 0., 0., 0., 0., 0., 0., 0., 0., 0., 0., 0., 0.,\n",
       "       0., 0., 0., 0., 0., 0., 0., 0., 0., 0., 0., 0., 0., 0., 0., 0., 0.,\n",
       "       0., 0., 0., 0., 0., 0., 0., 0., 0., 0., 0., 0., 0., 0., 0., 0., 0.,\n",
       "       0., 0., 0., 0., 0., 0., 0., 0., 0., 0., 0., 0., 0., 0., 0., 0.])"
      ]
     },
     "execution_count": 204,
     "metadata": {},
     "output_type": "execute_result"
    }
   ],
   "source": [
    "for j in range(XN):\n",
    "    u[j,tN-1] = max(Sg[j]-K,0)\n",
    "u[:, tN-10]"
   ]
  },
  {
   "cell_type": "code",
   "execution_count": 199,
   "metadata": {},
   "outputs": [
    {
     "data": {
      "text/plain": [
       "1.009328523333634"
      ]
     },
     "execution_count": 199,
     "metadata": {},
     "output_type": "execute_result"
    }
   ],
   "source": [
    "np.exp(k)\n"
   ]
  },
  {
   "cell_type": "code",
   "execution_count": 202,
   "metadata": {},
   "outputs": [
    {
     "name": "stderr",
     "output_type": "stream",
     "text": [
      "C:\\Users\\Rabzor\\Anaconda3\\lib\\site-packages\\ipykernel_launcher.py:1: RuntimeWarning: divide by zero encountered in true_divide\n",
      "  \"\"\"Entry point for launching an IPython kernel.\n",
      "C:\\Users\\Rabzor\\Anaconda3\\lib\\site-packages\\ipykernel_launcher.py:1: RuntimeWarning: invalid value encountered in true_divide\n",
      "  \"\"\"Entry point for launching an IPython kernel.\n"
     ]
    },
    {
     "data": {
      "text/plain": [
       "array([[   0.        ,   -0.        ,           nan, ...,           nan,\n",
       "                  nan,           nan],\n",
       "       [  -0.        ,    0.        ,   -0.        , ...,           nan,\n",
       "                  nan,           nan],\n",
       "       [          nan,   -0.        ,    0.        , ...,           nan,\n",
       "                  nan,           nan],\n",
       "       ...,\n",
       "       [          nan,           nan,           nan, ...,  -22.80571344,\n",
       "         -57.61399486,           nan],\n",
       "       [          nan,           nan,           nan, ...,  -56.15727804,\n",
       "         -23.39729244,  -59.08430068],\n",
       "       [          inf,           inf,           inf, ...,           inf,\n",
       "        -183.65236082,   19.47922937]])"
      ]
     },
     "execution_count": 202,
     "metadata": {},
     "output_type": "execute_result"
    }
   ],
   "source": [
    "np.divide((B*u[:,i]+h*v),A)"
   ]
  }
 ],
 "metadata": {
  "kernelspec": {
   "display_name": "Python 3",
   "language": "python",
   "name": "python3"
  },
  "language_info": {
   "codemirror_mode": {
    "name": "ipython",
    "version": 3
   },
   "file_extension": ".py",
   "mimetype": "text/x-python",
   "name": "python",
   "nbconvert_exporter": "python",
   "pygments_lexer": "ipython3",
   "version": "3.6.4"
  }
 },
 "nbformat": 4,
 "nbformat_minor": 2
}
