{
 "cells": [
  {
   "cell_type": "code",
   "execution_count": 1,
   "metadata": {
    "collapsed": true
   },
   "outputs": [],
   "source": [
    "import numpy as np\n",
    "from scipy.stats import norm\n",
    "import math"
   ]
  },
  {
   "cell_type": "code",
   "execution_count": 2,
   "metadata": {
    "collapsed": true
   },
   "outputs": [],
   "source": [
    "def BSCall(s,k,sigma,tau,r):\n",
    "    stau=math.sqrt(tau)\n",
    "    d1=(np.log(s/(k*math.exp(-r*tau))))/(sigma*stau)+0.5*sigma*stau\n",
    "    d2=d1-sigma*stau\n",
    "    bsc=s*norm.cdf(d1)-k*math.exp(-r*tau)*norm.cdf(d2)\n",
    "    return bsc"
   ]
  },
  {
   "cell_type": "code",
   "execution_count": 3,
   "metadata": {
    "collapsed": true
   },
   "outputs": [],
   "source": [
    "## Parameters\n",
    "# Black-Scholes parameters\n",
    "S = 100\n",
    "K = 100\n",
    "sigma = 0.2\n",
    "r = 0.1\n",
    "T = 0.5\n",
    "t = 0\n",
    "\n",
    "# Notation\n",
    "b = r-sigma**2/2\n",
    "\n",
    "# Underlying\n",
    "X = math.log(S)\n",
    "l = abs(b)*T + 3*sigma*math.sqrt(T) #localization\n",
    "XL = X-l #lower bound\n",
    "XU = X+l #upper bound\n",
    "XN = 101\n",
    "\n",
    "# Time\n",
    "tL = 0 # lower bound\n",
    "tU = T # upper bound\n",
    "tN = 50\n",
    "\n",
    "## Grid\n",
    "\n",
    "# Underlying\n",
    "Xg = np.linspace(XL,XU,XN)\n",
    "Sg = np.exp(Xg)\n",
    "\n",
    "# Time\n",
    "tg = np.linspace(tL,tU,tN)\n",
    "\n",
    "# Grid sizes\n",
    "k = Xg[2]-Xg[1]\n",
    "h = tg[2]-tg[1]\n"
   ]
  },
  {
   "cell_type": "code",
   "execution_count": 4,
   "metadata": {},
   "outputs": [],
   "source": [
    "## Scheme\n",
    "\n",
    "# theta = 0 # explicit\n",
    "theta = 0.5 # Crank-Nicolson\n",
    "# theta = 1 # fully implicit\n",
    "\n",
    "u = np.zeros((XN,tN))\n",
    "\n",
    "# Terminal condition\n",
    "for j in range(XN):\n",
    "    u[j,tN-1] = max(Sg[j]-K,0)\n",
    "\n",
    "# Coefficients\n",
    "alpha = sigma**2/(2*k**2)-b/(2*k)\n",
    "beta = -sigma**2/k**2-r\n",
    "gamma = sigma**2/(2*k**2)+b/(2*k)\n",
    "Ak = np.zeros((XN, XN))\n",
    "Ak[range(XN), range(XN)] = beta\n",
    "Ak[range(XN-1), range(1, XN)] = gamma\n",
    "Ak[range(1, XN), range(XN-1)] = alpha\n",
    "A = np.eye(XN)-h*theta*Ak\n",
    "B = np.eye(XN)+h*(1-theta)*Ak\n",
    "v = np.zeros((XN))\n",
    "\n",
    "\n",
    "for i in range(tN,1,-1):\n",
    "    \n",
    "    # Vector v\n",
    "    v[1] = alpha*0\n",
    "    v[len(v)-1] = gamma*(theta*(Sg[XN-1]*math.exp(k)-K*math.exp(-r*(T-tg[i-2]))) \n",
    "                         + (1-theta)*(Sg[XN-1]*math.exp(k)-K*math.exp(-r*(T-tg[i-1]))))\n",
    "    \n",
    "    # Systems\n",
    "    u[:,i-2] = np.linalg.inv(A).dot(B.dot(u[:,i-1])+h*v)#np.divide((B.dot(u[:,i])+h*v),A)"
   ]
  },
  {
   "cell_type": "markdown",
   "metadata": {},
   "source": [
    "Graphique en 3D à faire "
   ]
  },
  {
   "cell_type": "code",
   "execution_count": 10,
   "metadata": {},
   "outputs": [
    {
     "data": {
      "image/png": "[encoded data removed]",
      "text/plain": [
       "<matplotlib.figure.Figure at 0x1196831d0>"
      ]
     },
     "metadata": {},
     "output_type": "display_data"
    }
   ],
   "source": [
    "import matplotlib.pyplot as plt\n",
    "from mpl_toolkits.mplot3d import Axes3D\n",
    "\n",
    "plt.figure(figsize=(16,5))\n",
    "plt.figure(1)\n",
    "plt.subplot(121)\n",
    "plt.plot(Sg, u[:, 1] , '--', lw=3, label='theta = ' + str(theta))\n",
    "plt.plot(Sg, BSCall(Sg,K,sigma,T,r), '-', lw=3, label='theoretical')\n",
    "plt.grid()\n",
    "plt.legend()\n",
    "\n",
    "\"\"\"\n",
    "plt.subplot(121)\n",
    "Axes3D.plot(T-tg, Sg, u)\n",
    "#ax = fig.add_subplot(111, projection='3d')\n",
    "\n",
    "\n",
    "\n",
    "\n",
    "\n",
    "plt.figure()\n",
    "    mesh(T-tg,Sg,u)\n",
    "    title('Finite Differences for Black-Scholes')\n",
    "    xlabel('Time to maturity')\n",
    "    ylabel('S_0')\n",
    "    zlabel('Price')\n",
    "figure(2)\n",
    "    plot(Sg,u(:,1),Sg,BSCall(Sg,K,sigma,T,r))\n",
    "    legend(['theta = ' num2str(theta)],'Theoretical')\n",
    "\"\"\"\n",
    "plt.show()"
   ]
  },
  {
   "cell_type": "markdown",
   "metadata": {},
   "source": []
  },
  {
   "cell_type": "markdown",
   "metadata": {},
   "source": []
  },
  {
   "cell_type": "markdown",
   "metadata": {},
   "source": [
    "Prices"
   ]
  },
  {
   "cell_type": "code",
   "execution_count": 36,
   "metadata": {},
   "outputs": [],
   "source": [
    "j = (Sg>=S).nonzero()[0][0] #find(Sg>=S,1)\n",
    "i = (tg>=t).nonzero()[0][0] #find(tg>=t,1)\n",
    "\n",
    "Sc = Sg[j]\n",
    "tc = tg[i]\n",
    "\n",
    "EstimatedC = u[j,i] # estimated price\n",
    "TheoreticalC = BSCall(Sc,K,sigma,T-tc,r) # theoretical price\n",
    "Error = TheoreticalC-EstimatedC # error"
   ]
  },
  {
   "cell_type": "code",
   "execution_count": 38,
   "metadata": {},
   "outputs": [
    {
     "name": "stdout",
     "output_type": "stream",
     "text": [
      "0.00275997744934\n"
     ]
    }
   ],
   "source": [
    "print(Error)"
   ]
  }
 ],
 "metadata": {
  "kernelspec": {
   "display_name": "Python 3",
   "language": "python",
   "name": "python3"
  },
  "language_info": {
   "codemirror_mode": {
    "name": "ipython",
    "version": 3
   },
   "file_extension": ".py",
   "mimetype": "text/x-python",
   "name": "python",
   "nbconvert_exporter": "python",
   "pygments_lexer": "ipython3",
   "version": "3.6.2"
  }
 },
 "nbformat": 4,
 "nbformat_minor": 2
}
