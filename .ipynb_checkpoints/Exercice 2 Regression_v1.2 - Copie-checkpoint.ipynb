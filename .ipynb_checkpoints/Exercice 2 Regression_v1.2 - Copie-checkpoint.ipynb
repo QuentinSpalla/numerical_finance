{
 "cells": [
  {
   "cell_type": "markdown",
   "metadata": {},
   "source": [
    "# Exercice 2"
   ]
  },
  {
   "cell_type": "markdown",
   "metadata": {},
   "source": [
    "# Régression et Algorithme de Longstaff-Schwartz"
   ]
  },
  {
   "cell_type": "markdown",
   "metadata": {},
   "source": [
    "\n",
    "\n",
    "\n",
    "\n",
    "Nous importons les librairies dont nous avons besoin"
   ]
  },
  {
   "cell_type": "code",
   "execution_count": 5,
   "metadata": {},
   "outputs": [],
   "source": [
    "import numpy as np\n",
    "import time \n",
    "from scipy.stats import norm"
   ]
  },
  {
   "cell_type": "markdown",
   "metadata": {},
   "source": [
    "Nous réutilisons la fonction de simulations Monte-Carlo de spots du sous-jacent "
   ]
  },
  {
   "cell_type": "code",
   "execution_count": 6,
   "metadata": {},
   "outputs": [],
   "source": [
    "def simulate_bs_process(S0=50., r=0.05, sigma=0.15, T=1., h=1./360):\n",
    "    nb_sim = int(T / h) - 1\n",
    "    \n",
    "    if nb_sim <= 0:\n",
    "        return [S0]\n",
    "    \n",
    "    gauss_mean = (r - 0.5 * sigma**2) * h\n",
    "    gauss_stddev = sigma * np.sqrt(h)\n",
    "    \n",
    "    gauss_rvs = np.random.normal(\n",
    "        loc=gauss_mean,\n",
    "        scale=gauss_stddev,\n",
    "        size=nb_sim)\n",
    "    \n",
    "    exp_gauss = np.exp(gauss_rvs)\n",
    "    exp_gauss = np.insert(exp_gauss, 0, S0)\n",
    "\n",
    "    return np.cumprod(exp_gauss)   "
   ]
  },
  {
   "cell_type": "markdown",
   "metadata": {},
   "source": [
    "Nous définissons une matrice contenant l'ensemble des simulations de spot"
   ]
  },
  {
   "cell_type": "code",
   "execution_count": 11,
   "metadata": {},
   "outputs": [],
   "source": [
    "nb_paths = 10000\n",
    "\n",
    "time_vec = np.linspace(0., 1., 360)\n",
    "sim_paths = np.array([simulate_bs_process() for _ in range(nb_paths)])"
   ]
  },
  {
   "cell_type": "markdown",
   "metadata": {},
   "source": [
    "## Algorithme de Longstaff-Schwartz\n",
    "\n",
    "Nous considérons le pricing d'un call européen.\n",
    "\n",
    "Nous venons de simuler 10 000 trajectoires ($N=10000$) du sous-jacent du call, chaque trajectoire contenant 360 intervalles de temps ($M=360$). Ces spots de sous-jacent sont stockés dans une matrice nommée \"spot\". Nous créons une matrice \"price\", destinée à stocker les prix de l'option à chaque date de spot simulé.\n",
    "\n",
    "Nous remplissons dans un premier temps la dernière colonne de \"price\", car à la date terminale le prix de l'option se calcule à partir du niveau du sous-jacent: \n",
    "\n",
    "$$P^n_{t_M}=(S_{t_M} - K)^{+}$$\n",
    "\n",
    "avec $S_{t_{M}}^n$ le spot du sous-jacent à la date terminale ${t_{M}}$ pour la trajectoire simulée n et $P_{t_{M}}^n$ le prix de l'option à la date terminale ${t_{M}}$ pour la trajectoire simulée n.\n",
    "\n",
    "Pour remplir les autres colonnes (les autres dates) de la matrice des prix de l'option, nous utilisons une régression aux moindres carrés polynomiale: \n",
    "\n",
    "$$P_{t_{i+1}}exp({\\frac{-r}{M}}) =c_{t_{i}} + \\alpha_{t_{i}}  S_{t_{i}} + \\beta_{t_{i}}  ({S_{t_{i}}})^2$$\n",
    "\n",
    "avec $S_{t_{i}}$ le vecteur des spots du sous-jacent à la date ${t_{i}}$ et $P_{t_{i}}$ le vecteur des prix de l'option à la date ${t_{i}}$.\n",
    "\n",
    "\n",
    "Nous en déduisons le prix de l'option pour la trajectoire n: \n",
    "\n",
    "$$P_{t_{i}}^n exp({\\frac{-r}{M}}) =c_{t_{i}} + \\alpha_{t_{i}}  S_{t_{i}}^n + \\beta_{t_{i}}  ({S^n_{t_{i}}})^2$$\n",
    "\n",
    "avec $S_{t_{i}}^n$ le spot du sous-jacent à la date ${t_{i}}$ pour la trajectoire simulée n et $P^n_{t_{i}}$ le prix de l'option à la date ${t_{i}}$ pour la trajectoire simulée n.\n",
    "\n",
    "Une fois cet algorithme arrivé à la date $t_0$, pour déduire le prix de l'option à la date initiale, nous effectuons une moyenne arithmétique des prix de l'option à cette date: \n",
    "\n",
    "$$P_0=\\frac{1}{N}  \\sum^N_{n=1}{P_{t_0}^n}$$\n"
   ]
  },
  {
   "cell_type": "code",
   "execution_count": 12,
   "metadata": {},
   "outputs": [
    {
     "name": "stdout",
     "output_type": "stream",
     "text": [
      "4.971617296955886\n"
     ]
    },
    {
     "name": "stderr",
     "output_type": "stream",
     "text": [
      "C:\\Programs\\Anaconda\\lib\\site-packages\\ipykernel_launcher.py:24: RankWarning: Polyfit may be poorly conditioned\n"
     ]
    }
   ],
   "source": [
    "n = 360\n",
    "spot = sim_paths\n",
    "price= np.zeros([sim_paths.shape[0],n])\n",
    "maturity = 1\n",
    "\n",
    "dt = 1./360\n",
    "nbSim = 10000\n",
    "S0 = 50\n",
    "r = 0.05\n",
    "sigma = 0.15\n",
    "K = 49\n",
    "\n",
    "\n",
    "t = np.linspace(0,maturity,n)\n",
    "S = np.zeros([n]) \n",
    "S[0] = S0 \n",
    "\n",
    "\n",
    "price = np.where(spot>K, spot-K, 0)\n",
    "for m in range(1,n): \n",
    "\n",
    "        x_reg = spot[:,n-m-1] \n",
    "        y_reg = np.exp(-r*dt)*price[:,n-m]\n",
    "        coeff_reg = np.polyfit(x_reg, y_reg, 2)\n",
    "\n",
    "        price[:,n-m-1]=(coeff_reg[2]+coeff_reg[1]*spot[:,n-m-1]+coeff_reg[0]*spot[:,n-m-1]**2)\n",
    "\n",
    "\n",
    "print(np.mean(price[:,0]))"
   ]
  },
  {
   "cell_type": "markdown",
   "metadata": {},
   "source": [
    "Nous vérifions la cohérence notre prix calculé grâce à Monte Carlo et Longstaff Schwartz en le comparant avec la formule fermée de Black & Scholes pour un call européen:"
   ]
  },
  {
   "cell_type": "code",
   "execution_count": 13,
   "metadata": {},
   "outputs": [],
   "source": [
    "def bs_call_price(S=100., r=0.02, sigma=0.2, t=0., T=1., K=100.):\n",
    "    ttm = T - t\n",
    "    \n",
    "    if ttm < 0:\n",
    "        return 0.\n",
    "    elif ttm == 0.:\n",
    "        return np.maximum(S - K, 0.)\n",
    "\n",
    "    vol = sigma * np.sqrt(ttm)\n",
    "\n",
    "    d_minus = np.log(S / K) + (r - 0.5 * sigma**2) * ttm\n",
    "    d_minus /= vol\n",
    "\n",
    "    d_plus = d_minus + vol\n",
    "\n",
    "    res = S * norm.cdf(d_plus)\n",
    "    res -= K * np.exp(-r * ttm) * norm.cdf(d_minus)\n",
    "\n",
    "    return res"
   ]
  },
  {
   "cell_type": "code",
   "execution_count": 15,
   "metadata": {},
   "outputs": [
    {
     "data": {
      "text/plain": [
       "4.892712596170217"
      ]
     },
     "execution_count": 15,
     "metadata": {},
     "output_type": "execute_result"
    }
   ],
   "source": [
    "bs_call_price(S0, r, sigma, 0,maturity,K)"
   ]
  }
 ],
 "metadata": {
  "kernelspec": {
   "display_name": "Python 3",
   "language": "python",
   "name": "python3"
  },
  "language_info": {
   "codemirror_mode": {
    "name": "ipython",
    "version": 3
   },
   "file_extension": ".py",
   "mimetype": "text/x-python",
   "name": "python",
   "nbconvert_exporter": "python",
   "pygments_lexer": "ipython3",
   "version": "3.6.4"
  }
 },
 "nbformat": 4,
 "nbformat_minor": 2
}
