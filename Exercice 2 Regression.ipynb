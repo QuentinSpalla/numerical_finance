{
 "cells": [
  {
   "cell_type": "markdown",
   "metadata": {},
   "source": [
    "# Exercice 2 "
   ]
  },
  {
   "cell_type": "markdown",
   "metadata": {},
   "source": [
    "## Regression Longstaff-Schwartz"
   ]
  },
  {
   "cell_type": "markdown",
   "metadata": {},
   "source": [
    "On commence par importer les librairies dont nous avons besoin"
   ]
  },
  {
   "cell_type": "code",
   "execution_count": 13,
   "metadata": {},
   "outputs": [],
   "source": [
    "import numpy as np\n",
    "import time \n",
    "from scipy.stats import norm"
   ]
  },
  {
   "cell_type": "markdown",
   "metadata": {},
   "source": [
    "On réutilise la fonction de simulations Monte-Carlo de spots du sous-jacent "
   ]
  },
  {
   "cell_type": "code",
   "execution_count": 15,
   "metadata": {},
   "outputs": [],
   "source": [
    "def simulate_bs_process(S0=50., r=0.05, sigma=0.15, T=1., h=1./360):\n",
    "    nb_sim = int(T / h) - 1\n",
    "    \n",
    "    if nb_sim <= 0:\n",
    "        return [S0]\n",
    "    \n",
    "    gauss_mean = (r - 0.5 * sigma**2) * h\n",
    "    gauss_stddev = sigma * np.sqrt(h)\n",
    "    \n",
    "    gauss_rvs = np.random.normal(\n",
    "        loc=gauss_mean,\n",
    "        scale=gauss_stddev,\n",
    "        size=nb_sim)\n",
    "    \n",
    "    exp_gauss = np.exp(gauss_rvs)\n",
    "    exp_gauss = np.insert(exp_gauss, 0, S0)\n",
    "\n",
    "    return np.cumprod(exp_gauss)   "
   ]
  },
  {
   "cell_type": "markdown",
   "metadata": {},
   "source": [
    "Nous posons une matrice contenant l'ensemble des simulations de spot"
   ]
  },
  {
   "cell_type": "code",
   "execution_count": 16,
   "metadata": {},
   "outputs": [],
   "source": [
    "nb_paths = 10000\n",
    "\n",
    "time_vec = np.linspace(0., 1., 360)\n",
    "sim_paths = np.array([simulate_bs_process() for _ in range(nb_paths)])"
   ]
  },
  {
   "cell_type": "markdown",
   "metadata": {},
   "source": [
    "## Algorithme de Longstaff-Schwartz\n"
   ]
  },
  {
   "cell_type": "code",
   "execution_count": 24,
   "metadata": {},
   "outputs": [
    {
     "name": "stdout",
     "output_type": "stream",
     "text": [
      "4.846633889575721\n",
      "0.7691917299989655 secondes\n"
     ]
    },
    {
     "name": "stderr",
     "output_type": "stream",
     "text": [
      "C:\\Programs\\Anaconda\\lib\\site-packages\\ipykernel_launcher.py:32: RankWarning: Polyfit may be poorly conditioned\n"
     ]
    }
   ],
   "source": [
    "start_time = time.clock()\n",
    "n = 360 #Nombre de découpes de mon intervalle\n",
    "spot = sim_paths\n",
    "price= np.zeros([sim_paths.shape[0],n])\n",
    "maturity = 1 #Définition de la longueur de mon intervalle = durée de diffusion en année\n",
    "\n",
    "dt = 1./360 #Taille d'un intervalle\n",
    "nbSim = 10000 #Nombre de simulation Monte-Carlo\n",
    "\n",
    "S0 = 50 #Niveau du spot en t=0\n",
    "r = 0.05 #rendement annualisé\n",
    "sigma = 0.15 #volatilité annualisée de mon sous-jacent\n",
    "K = 49 #Strike de mon CALL\n",
    "\n",
    "\n",
    "t = np.linspace(0,maturity,n) #Création d'un vecteur qui contient mes t avec un incrément de (maturity/n)\n",
    "S = np.zeros([n]) #Création d'un vecteur de 0 qui contiendra mes S(t)\n",
    "S[0] = S0 #J'initialise la première valeur de mon vecteur de sous-jacent\n",
    "\n",
    "\"\"\"\n",
    "for j in range(0,nb_paths): #Calcul de la valeur de mon CALL à maturité\n",
    "    if (spot[j,n-1]-K)>0:\n",
    "        price[j,n-1]=spot[j,n-1]-K\n",
    "    else:\n",
    "        price[j,n-1]=0\n",
    "\"\"\"\n",
    "price = np.where(spot>K, spot-K, 0)\n",
    "for m in range(1,n): #m va me permettre de \"redescendre\" jusqu'au temps 0\n",
    "\n",
    "        x_reg = spot[:,n-m-1] #Variables explicatives\n",
    "        y_reg = np.exp(-r*dt)*price[:,n-m] #Variable expliquée\n",
    "        coeff_reg = np.polyfit(x_reg, y_reg, 2)\n",
    "\n",
    "        #Je calcule le prix de mon option juste un pas avant en actualisant sa valeur à l'aide du taux sans risque\n",
    "        price[:,n-m-1]=(coeff_reg[2]+coeff_reg[1]*spot[:,n-m-1]+coeff_reg[0]*spot[:,n-m-1]**2)\n",
    "\n",
    "\n",
    "        #On pourrait rendre nul les prix d'options négatifs obtenus \n",
    "        #mais cela a tendance à rendre un prix final supérieur de 5% à celui\n",
    "        #obtenu avec les formules fermées\n",
    "        #for j in range(0,nbSim):\n",
    "         #   if (price[j,n-m-1])<0:\n",
    "          #      price[j,n-m-1]=0\n",
    "\n",
    "print(np.mean(price[:,0])) #Prix final de mon option (je prends la moyenne des valeurs de ma première colonne)\n",
    "print (time.clock()-start_time, \"secondes\") #Affiche le temps nécessaire pour obtenir notre prix"
   ]
  },
  {
   "cell_type": "markdown",
   "metadata": {},
   "source": [
    "On vérifie notre prix calculé grâce à Monte Carlo et Longstaff Schwartz par la simple formule de Black & Scholes.\n",
    "On cherche à pricer un call européen basique"
   ]
  },
  {
   "cell_type": "code",
   "execution_count": 10,
   "metadata": {},
   "outputs": [],
   "source": [
    "def bs_call_price(S=100., r=0.02, sigma=0.2, t=0., T=1., K=100.):\n",
    "    ttm = T - t\n",
    "    \n",
    "    if ttm < 0:\n",
    "        return 0.\n",
    "    elif ttm == 0.:\n",
    "        return np.maximum(S - K, 0.)\n",
    "\n",
    "    vol = sigma * np.sqrt(ttm)\n",
    "\n",
    "    d_minus = np.log(S / K) + (r - 0.5 * sigma**2) * ttm\n",
    "    d_minus /= vol\n",
    "\n",
    "    d_plus = d_minus + vol\n",
    "\n",
    "    res = S * norm.cdf(d_plus)\n",
    "    res -= K * np.exp(-r * ttm) * norm.cdf(d_minus)\n",
    "\n",
    "    return res"
   ]
  },
  {
   "cell_type": "code",
   "execution_count": 14,
   "metadata": {},
   "outputs": [
    {
     "data": {
      "text/plain": [
       "4.892712596170217"
      ]
     },
     "execution_count": 14,
     "metadata": {},
     "output_type": "execute_result"
    }
   ],
   "source": [
    "bs_call_price(S0, r, sigma, 0, T, K)"
   ]
  }
 ],
 "metadata": {
  "kernelspec": {
   "display_name": "Python 3",
   "language": "python",
   "name": "python3"
  },
  "language_info": {
   "codemirror_mode": {
    "name": "ipython",
    "version": 3
   },
   "file_extension": ".py",
   "mimetype": "text/x-python",
   "name": "python",
   "nbconvert_exporter": "python",
   "pygments_lexer": "ipython3",
   "version": "3.6.4"
  }
 },
 "nbformat": 4,
 "nbformat_minor": 2
}
